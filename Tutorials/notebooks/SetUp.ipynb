{
 "cells": [
  {
   "attachments": {},
   "cell_type": "markdown",
   "metadata": {},
   "source": [
    "# 🐊 Setting up Gator \n",
    "## Kindly note that **Gator is not a plug-and-play solution**, rather it's a framework that requires significant upfront investment of time from potential users for training and validating deep learning models, which can then be utilized in a plug-and-play manner for processing large volumes of similar multiplexed imaging data.\n",
    "\n",
    "**There are two ways to set it up based on how you would like to run the program**\n",
    "- Using an interactive environment like Jupyter Notebooks\n",
    "- Using Command Line Interface"
   ]
  },
  {
   "attachments": {},
   "cell_type": "markdown",
   "metadata": {},
   "source": [
    "Before we set up Gator, we highly recommend using a environment manager like Conda. Using an environment manager like Conda allows you to create and manage isolated environments with specific package versions and dependencies. \n",
    "\n",
    "**Download and Install the right [conda](https://docs.conda.io/en/latest/miniconda.html) based on the opertating system that you are using**"
   ]
  },
  {
   "attachments": {},
   "cell_type": "markdown",
   "metadata": {},
   "source": [
    "<hr>"
   ]
  },
  {
   "attachments": {},
   "cell_type": "markdown",
   "metadata": {},
   "source": [
    "## Let's create a new conda environment and install Gator\n",
    "\n",
    "```\n",
    "# use the terminal (mac/linux) and anaconda promt (windows) to run the following command\n",
    "conda create --name gator -y python=3.9\n",
    "```\n",
    "\n",
    "**Install `gatorpy` within the conda environment.**\n",
    "\n",
    "```\n",
    "conda activate gator\n",
    "pip install gatorpy\n",
    "```"
   ]
  },
  {
   "attachments": {},
   "cell_type": "markdown",
   "metadata": {},
   "source": [
    "<hr>"
   ]
  },
  {
   "attachments": {},
   "cell_type": "markdown",
   "metadata": {},
   "source": [
    "## Download the Exemplar Dataset\n",
    "To help you get used to the program we have provided some dummy data.   \n",
    "**Download link to the [exemplar dataset provided here.](https://github.com/nirmalLab/gatorpy/tree/main/docs/Tutorials/gatorExampleData)**  \n",
    "All of the following files are mandatory for running Gator, but `phenotype_workflow.csv` is optional and can be skipped if single cell phenotyping is not required.\n",
    "```\n",
    "gatorExampleData\n",
    "├── image\n",
    "│   └── exampleImage.tif\n",
    "├── markers.csv\n",
    "├── phenotype_workflow.csv\n",
    "├── quantification\n",
    "│   └── exampleSpatialTable.csv\n",
    "└── segmentation\n",
    "    └── exampleSegmentationMask.tif\n",
    "```"
   ]
  },
  {
   "attachments": {},
   "cell_type": "markdown",
   "metadata": {},
   "source": [
    "<hr>"
   ]
  },
  {
   "attachments": {},
   "cell_type": "markdown",
   "metadata": {},
   "source": [
    "## Method 1: Set up Jupyter Notebook (If you would like to run Gator in an interactive setting)\n",
    "Install jupyter notebook within the conda environment\n",
    "```\n",
    "conda activate gator\n",
    "pip install notebook\n",
    "```\n",
    "After installation, open Jupyter Notebook by typing the following command in the terminal, ensuring that the Gator environment is activated and you are within the environment before executing the jupyter notebook command.\n",
    "```\n",
    "jupyter notebook\n",
    "```\n",
    "We will talk about how to run Gator in the next tutorial."
   ]
  },
  {
   "attachments": {},
   "cell_type": "markdown",
   "metadata": {},
   "source": [
    "## Method 2: Set up Command Line Interface (If you like to run Gator in the CLI, HPC, etc)\n",
    "\n",
    "Activate the conda environment that you created earlier\n",
    "```\n",
    "conda activate gator\n",
    "```\n",
    "\n",
    "Download the gator program from github\n",
    "```\n",
    "wget https://github.com/nirmalLab/gatorpy/archive/main.zip\n",
    "unzip main.zip \n",
    "cd gatorpy-main/gatorpy \n",
    "```\n",
    "We will talk about how to run Gator in the next tutorial.\n"
   ]
  }
 ],
 "metadata": {
  "kernelspec": {
   "display_name": "gator",
   "language": "python",
   "name": "python3"
  },
  "language_info": {
   "name": "python",
   "version": "3.9.12"
  },
  "orig_nbformat": 4,
  "vscode": {
   "interpreter": {
    "hash": "b155a34da96f173027cc83af6ba86a1d662c2b9e09ee27c56baf0fff8044d14a"
   }
  }
 },
 "nbformat": 4,
 "nbformat_minor": 2
}
