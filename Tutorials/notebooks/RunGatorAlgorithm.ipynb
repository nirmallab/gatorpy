{
 "cells": [
  {
   "attachments": {},
   "cell_type": "markdown",
   "metadata": {},
   "source": [
    "# 🐊 Run the GATOR Prediction Algorithm on new images"
   ]
  },
  {
   "attachments": {},
   "cell_type": "markdown",
   "metadata": {},
   "source": [
    "**Download the [executable notebook](https://github.com/nirmalLab/gatorpy/blob/main/docs/Tutorials/notebooks/ApplyModel.ipynb) and [trained models](https://github.com/nirmallab/gatorpy/tree/main/docs/Tutorials/manuscriptModels/).**  \n",
    "For the purpose of this tutorial, replace the `gatorModel` folder within the exemplar data with the newly downloaded `gatorModel` directory. \n",
    "  \n",
    "Make sure you have completed `BuildModels` Tutorial before you try to execute this Jupyter Notebook!\n",
    "  \n",
    "Please keep in mind that the sample data is used for demonstration purposes only and has been simplified and reduced in size. It is solely intended for educational purposes on how to execute `Gator` and will not yeild any meaningful results.\n"
   ]
  },
  {
   "attachments": {},
   "cell_type": "markdown",
   "metadata": {},
   "source": [
    "**Running the Gator Prediction Algorithm involves the following steps:**\n",
    "- Run the `gatorPredict` function on a new image. It will produce an image with probability masks\n",
    "- Run the `generateGatorScore` function on the probability masks to generate the `gatorScores`\n",
    "- Run the `gatorObject` to create an anndata object with the `gatorScores` and pre-computed `single-cell table`\n",
    "- Lastly, run `gator`  on the gatorObject\n",
    "  \n",
    "**Note: To make things easy, all of the above steps can be run with a single command `gatorPipeline`.**  \n",
    "Typically, in production settings, `gatorPipeline` would be utilized, whereas step-by-step analysis would be employed for troubleshooting, model validation, and similar tasks that necessitate greater granularity or control."
   ]
  },
  {
   "attachments": {},
   "cell_type": "markdown",
   "metadata": {},
   "source": [
    "<hr>"
   ]
  },
  {
   "attachments": {},
   "cell_type": "markdown",
   "metadata": {},
   "source": [
    "## Single command execution of the entire Gator Prediction Algorithm using the `gatorPipeline` function"
   ]
  },
  {
   "cell_type": "code",
   "execution_count": 2,
   "metadata": {},
   "outputs": [],
   "source": [
    "# import packages in jupyter notebook (not needed for command line interface users)\n",
    "import gatorpy as ga"
   ]
  },
  {
   "cell_type": "code",
   "execution_count": 3,
   "metadata": {},
   "outputs": [],
   "source": [
    "# Path to all the files that are necessary files for running the Gator Prediction Algorithm (broken down based on sub functions)\n",
    "projectDir = '/Users/aj/Desktop/gatorExampleData'\n",
    "\n",
    "# gatorPredict related paths\n",
    "imagePath = projectDir + '/image/exampleImage.tif'\n",
    "markerChannelMapPath = projectDir + '/markers.csv'\n",
    "gatorModelPath = projectDir + '/GATOR/gatorModel/'\n",
    "\n",
    "# Generate generateGatorScore related paths\n",
    "segmentationPath = projectDir + '/segmentation/exampleSegmentationMask.tif'\n",
    "\n",
    "# gatorObject related paths\n",
    "spatialTablePath = projectDir + '/quantification/exampleSpatialTable.csv'\n"
   ]
  },
  {
   "cell_type": "code",
   "execution_count": null,
   "metadata": {},
   "outputs": [],
   "source": [
    "# Run the pipeline (For function specific parameters, check the documentation)\n",
    "ga.gatorPipeline(   \n",
    "                    # parameters for gatorPredict function\n",
    "                    imagePath=imagePath,\n",
    "                    gatorModelPath=gatorModelPath,\n",
    "                    markerChannelMapPath=markerChannelMapPath,\n",
    "\n",
    "                    # parameters for generateGatorScore function\n",
    "                    segmentationMaskPath=segmentationPath,\n",
    "\n",
    "                    # parameters for gatorObject function\n",
    "                    spatialTablePath=spatialTablePath,\n",
    "\n",
    "                    # parameters to run gator function\n",
    "                    # ..\n",
    "\n",
    "                    # common parameters\n",
    "                    verbose=False,\n",
    "                    projectDir=projectDir)\n"
   ]
  },
  {
   "attachments": {},
   "cell_type": "markdown",
   "metadata": {},
   "source": [
    "**Same function if the user wants to run it via Command Line Interface**\n",
    "```\n",
    "python gatorPipeline.py \\\n",
    "        --imagePath /Users/aj/Desktop/gatorExampleData/image/exampleImage.tif \\\n",
    "        --gatorModelPath /Users/aj/Desktop/gatorExampleData/GATOR/gatorModel/ \\\n",
    "        --markerChannelMapPath /Users/aj/Desktop/gatorExampleData/markers.csv \\\n",
    "        --segmentationMaskPath /Users/aj/Desktop/gatorExampleData/segmentation/exampleSegmentationMask.tif \\\n",
    "        --spatialTablePath /Users/aj/Desktop/gatorExampleData/quantification/exampleSpatialTable.csv \\\n",
    "        --projectDir /Users/aj/Desktop/gatorExampleData \\\n",
    "        --verbose True\n",
    "```"
   ]
  },
  {
   "attachments": {},
   "cell_type": "markdown",
   "metadata": {},
   "source": [
    "Head over to `GATOR/gatorOutput` to view results"
   ]
  },
  {
   "attachments": {},
   "cell_type": "markdown",
   "metadata": {},
   "source": [
    "<hr>"
   ]
  },
  {
   "attachments": {},
   "cell_type": "markdown",
   "metadata": {},
   "source": [
    "## Step by step execution of the Gator Prediction Algorithm"
   ]
  },
  {
   "cell_type": "code",
   "execution_count": null,
   "metadata": {},
   "outputs": [],
   "source": [
    "# import packages in jupyter notebook (not needed for command line interface users)\n",
    "import gatorpy as ga"
   ]
  },
  {
   "cell_type": "code",
   "execution_count": 4,
   "metadata": {},
   "outputs": [],
   "source": [
    "# Path to all the files that are necessary files for running gatorPredict\n",
    "projectDir = '/Users/aj/Desktop/gatorExampleData'\n",
    "\n",
    "# gatorPredict related paths\n",
    "imagePath = projectDir + '/image/exampleImage.tif'\n",
    "markerChannelMapPath = projectDir + '/markers.csv'\n",
    "gatorModelPath = projectDir + '/GATOR/gatorModel/'\n"
   ]
  },
  {
   "cell_type": "markdown",
   "metadata": {},
   "source": [
    "## Step-1: Apply the generated Models on the Image of interest (Pixel Level)"
   ]
  },
  {
   "attachments": {},
   "cell_type": "markdown",
   "metadata": {},
   "source": [
    "The function `gatorPredict` is employed to make predictions about the expression of a specified marker on cells in new images using the models generated by `gatorTrain`. This calculation is done at the pixel level, resulting in an output image where the number of channels corresponds to the number of models applied to the input image. The parameter `markerChannelMapPath` is used to associate the image channel number with the relevant model to be applied."
   ]
  },
  {
   "cell_type": "code",
   "execution_count": null,
   "metadata": {},
   "outputs": [],
   "source": [
    "ga.gatorPredict( imagePath=imagePath,\n",
    "                 gatorModelPath=gatorModelPath,\n",
    "                 projectDir=projectDir,\n",
    "                 markerChannelMapPath=markerChannelMapPath, \n",
    "                 markerColumnName='marker', \n",
    "                 channelColumnName='channel', \n",
    "                 modelColumnName='gatormodel')"
   ]
  },
  {
   "attachments": {},
   "cell_type": "markdown",
   "metadata": {},
   "source": [
    "**Same function if the user wants to run it via Command Line Interface**\n",
    "```\n",
    "python gatorPredict.py --imagePath /Users/aj/Desktop/gatorExampleData/image/exampleImage.tif \\\n",
    "                        --gatorModelPath /Users/aj/Desktop/gatorExampleData/GATOR/gatorModel/ \\\n",
    "                        --projectDir /Users/aj/Desktop/gatorExampleData \\\n",
    "                        --markerChannelMapPath /Users/aj/Desktop/gatorExampleData/markers.csv\n",
    "```"
   ]
  },
  {
   "cell_type": "markdown",
   "metadata": {},
   "source": [
    "## Step-2: Calculate the gatorScore (Single-cell Level)"
   ]
  },
  {
   "attachments": {},
   "cell_type": "markdown",
   "metadata": {},
   "source": [
    "After calculating pixel-level probability scores, the next step is to aggregate them to the single-cell level. This can be done by computing the mean or median probability scores using pre-computed segmentation masks. The marker names, if available, should already be included in the probabilityMask image. If the marker names are lost due to file manipulation, the user can provide them through the markerNames parameter."
   ]
  },
  {
   "cell_type": "code",
   "execution_count": 5,
   "metadata": {},
   "outputs": [],
   "source": [
    "# Path to all the files that are necessary files for running generateGatorScore\n",
    "segmentationPath = projectDir + '/segmentation/exampleSegmentationMask.tif'\n",
    "probabilityMaskPath = projectDir + '/GATOR/gatorPredict/exampleImage_gatorPredict.ome.tif'\n"
   ]
  },
  {
   "cell_type": "code",
   "execution_count": 6,
   "metadata": {},
   "outputs": [
    {
     "name": "stdout",
     "output_type": "stream",
     "text": [
      "Quantifying the probability masks\n",
      "gatorScore is ready, head over to/Users/aj/Desktop/gatorExampleData/GATOR/gatorScore\" to view results\n"
     ]
    }
   ],
   "source": [
    "ga.generateGatorScore(probabilityMaskPath=probabilityMaskPath,\n",
    "                      segmentationMaskPath=segmentationPath,\n",
    "                      feature='median',\n",
    "                      projectDir=projectDir)\n"
   ]
  },
  {
   "attachments": {},
   "cell_type": "markdown",
   "metadata": {},
   "source": [
    "**Same function if the user wants to run it via Command Line Interface**\n",
    "```\n",
    "python generateGatorScore.py --probabilityMaskPath /Users/aj/Desktop/gatorExampleData/GATOR/gatorPredict/exampleImage_gatorPredict.ome.tif \\\n",
    "                            --segmentationMask /Users/aj/Desktop/gatorExampleData/segmentation/exampleSegmentationMask.tif \\\n",
    "                            --projectDir /Users/aj/Desktop/gatorExampleData/\n",
    "```"
   ]
  },
  {
   "attachments": {},
   "cell_type": "markdown",
   "metadata": {},
   "source": [
    "If you head over to `GATOR/gatorScore/`, you will find the `.csv` file with the gatorScores for every cell."
   ]
  },
  {
   "attachments": {},
   "cell_type": "markdown",
   "metadata": {},
   "source": [
    "## Step-3: Create a Gator object"
   ]
  },
  {
   "cell_type": "markdown",
   "metadata": {},
   "source": [
    "We'll use the anndata framework to create a gator object to store all information in one file, making it easier to keep track of intermediate files generated in subsequent steps.  This helps streamline the data analysis process and reduces the risk of losing or misplacing information."
   ]
  },
  {
   "cell_type": "code",
   "execution_count": 7,
   "metadata": {},
   "outputs": [],
   "source": [
    "# Path to all the files that are necessary files for running gatorObject function\n",
    "segmentationPath = projectDir + '/segmentation/exampleSegmentationMask.tif'\n",
    "gatorScorePath = projectDir + '/GATOR/gatorScore/exampleImage_gatorPredict.ome.csv'\n"
   ]
  },
  {
   "cell_type": "code",
   "execution_count": 8,
   "metadata": {},
   "outputs": [
    {
     "name": "stdout",
     "output_type": "stream",
     "text": [
      "Loading exampleSpatialTable.csv\n",
      "Gator Object has been created, head over to/Users/aj/Desktop/gatorExampleData/GATOR/gatorObject\" to view results\n"
     ]
    }
   ],
   "source": [
    "# please note that there are a number of defaults in the below function that assumes certain structure within the spatialTable.\n",
    "# Please confirm it is similar with user data or modifiy the parameters accordingly\n",
    "# check out the documentation for further details\n",
    "adata = ga.gatorObject (spatialTablePath=spatialTablePath,\n",
    "                        gatorScorePath=gatorScorePath,\n",
    "                        CellId='CellID',\n",
    "                        uniqueCellId=True,\n",
    "                        split='X_centroid',\n",
    "                        removeDNA=True,\n",
    "                        remove_string_from_name=None,\n",
    "                        log=True,\n",
    "                        dropMarkers=None,\n",
    "                        projectDir=projectDir)\n"
   ]
  },
  {
   "attachments": {},
   "cell_type": "markdown",
   "metadata": {},
   "source": [
    "**Same function if the user wants to run it via Command Line Interface**\n",
    "```\n",
    "python gatorObject.py --spatialTablePath /Users/aj/Desktop/gatorExampleData/quantification/exampleSpatialTable.csv \\\n",
    "                        --gatorScorePath /Users/aj/Desktop/gatorExampleData//GATOR/gatorScore/exampleImage_gatorPredict.ome.csv \\\n",
    "                        --projectDir /Users/aj/Desktop/gatorExampleData\n",
    "```"
   ]
  },
  {
   "attachments": {},
   "cell_type": "markdown",
   "metadata": {},
   "source": [
    "If you had provided `projectDir` the object would be stored in `GATOR/gatorObject/`, else, the object will be returned to memory"
   ]
  },
  {
   "attachments": {},
   "cell_type": "markdown",
   "metadata": {},
   "source": [
    "## Step-4: Run the final Gator Algorithm"
   ]
  },
  {
   "attachments": {},
   "cell_type": "markdown",
   "metadata": {},
   "source": [
    "The `gator` algorithm is ready to run after pre-processing. To get optimal results, consider adjusting the following parameters:\n",
    "  \n",
    "1. The `minAbundance` parameter determines the minimum percentage of a marker's abundance to consider it a failure.\n",
    "2. It is suggested to drop background markers with the `dropMarkers` option as they can interfere with classifiers.\n",
    "3. `RobustScale`: Scaling the data before training the classifier model has been shown to improve results. However, in our experience a simple log transformation was found to be work best. "
   ]
  },
  {
   "cell_type": "code",
   "execution_count": 9,
   "metadata": {},
   "outputs": [],
   "source": [
    "# Path to all the files that are necessary files for running gator function\n",
    "gatorObject = projectDir + '/GATOR/gatorObject/exampleImage_gatorPredict.ome.h5ad'\n"
   ]
  },
  {
   "cell_type": "code",
   "execution_count": 11,
   "metadata": {},
   "outputs": [],
   "source": [
    "adata = ga.gator ( gatorObject=gatorObject,\n",
    "                    gatorScore='gatorScore',\n",
    "                    minAbundance=0.005,\n",
    "                    percentiles=[1, 20, 80, 99],\n",
    "                    dropMarkers = None,\n",
    "                    RobustScale=False,\n",
    "                    log=True,\n",
    "                    x_coordinate='X_centroid',\n",
    "                    y_coordinate='Y_centroid',\n",
    "                    imageid='imageid',\n",
    "                    random_state=0,\n",
    "                    rescaleMethod='sigmoid',\n",
    "                    label='gatorOutput',\n",
    "                    verbose=False,\n",
    "                   projectDir=projectDir)\n"
   ]
  },
  {
   "attachments": {},
   "cell_type": "markdown",
   "metadata": {},
   "source": [
    "**Same function if the user wants to run it via Command Line Interface**\n",
    "```\n",
    "python gator.py --gatorObject /Users/aj/Desktop/gatorExampleData/GATOR/gatorObject/exampleImage_gatorPredict.ome.h5ad \\\n",
    "                --projectDir /Users/aj/Desktop/gatorExampleData\n",
    "```"
   ]
  },
  {
   "attachments": {},
   "cell_type": "markdown",
   "metadata": {},
   "source": [
    "If `projectDir` is provided, modified anndata object with results (stored in `adata.uns['gatorOutput']`) will be saved in `GATOR/gatorOutput/`. The gator-scaled data (stored in `adata.X`) considers cells above 0.5 as positive and below 0.5 as negative for the marker."
   ]
  },
  {
   "attachments": {},
   "cell_type": "markdown",
   "metadata": {},
   "source": [
    "## Step-5: Merge multiple Gator objects (optional)"
   ]
  },
  {
   "cell_type": "markdown",
   "metadata": {},
   "source": [
    "Use `mergeGatorObject` to combine multiple gatorObjects into a dataset for analysis when multiple images need to be analyzed.\n",
    "  \n",
    "Note that merging gatorObjects requires merging multiple sections, not simple concatenation. Use parameters to specify which parts of the gatorObjects to merge."
   ]
  },
  {
   "cell_type": "code",
   "execution_count": 12,
   "metadata": {},
   "outputs": [],
   "source": [
    "# set the working directory & set paths to the example data\n",
    "gatorObjects = [projectDir + '/GATOR/gatorOutput/exampleImage_gatorPredict.ome.h5ad',\n",
    "                projectDir + '/GATOR/gatorOutput/exampleImage_gatorPredict.ome.h5ad']\n"
   ]
  },
  {
   "cell_type": "code",
   "execution_count": 13,
   "metadata": {},
   "outputs": [
    {
     "name": "stdout",
     "output_type": "stream",
     "text": [
      "Extracting data\n",
      "Extracting data from: exampleSpatialTable\n",
      "Extracting data from: exampleSpatialTable\n"
     ]
    },
    {
     "name": "stderr",
     "output_type": "stream",
     "text": [
      "/opt/anaconda3/envs/gator/lib/python3.9/site-packages/anndata/_core/anndata.py:1828: UserWarning: Observation names are not unique. To make them unique, call `.obs_names_make_unique`.\n",
      "  utils.warn_names_duplicates(\"obs\")\n"
     ]
    }
   ],
   "source": [
    "# For this tutorial, supply the same gatorObject twice for merging, but multiple gatorObjects can be merged in ideal conditions.\n",
    "adata = ga.mergeGatorObject ( gatorObjects=gatorObjects,\n",
    "                              fileName='mergedGatorObject',\n",
    "                              layers=['preProcessed'],\n",
    "                              uns= ['gatorOutput','gatorScore'],\n",
    "                              projectDir=projectDir)\n"
   ]
  },
  {
   "attachments": {},
   "cell_type": "markdown",
   "metadata": {},
   "source": [
    "**Same function if the user wants to run it via Command Line Interface**\n",
    "```\n",
    "python mergeGatorObject.py --gatorObjects /Users/aj/Desktop/gatorExampleData/GATOR/gatorOutput/exampleImage_gatorPredict.ome.h5ad /Users/aj/Desktop/gatorExampleData/GATOR/gatorOutput/exampleImage_gatorPredict.ome.h5ad --projectDir /Users/aj/Desktop/gatorExampleData\n",
    "```"
   ]
  },
  {
   "attachments": {},
   "cell_type": "markdown",
   "metadata": {},
   "source": [
    "If `projectDir` is provided, modified anndata object with results will be saved in `GATOR/mergedGatorObject/`."
   ]
  },
  {
   "cell_type": "code",
   "execution_count": null,
   "metadata": {},
   "outputs": [],
   "source": [
    "# this tutorial ends here. Move to the Phenotyping cells Tutorial"
   ]
  }
 ],
 "metadata": {
  "kernelspec": {
   "display_name": "gator",
   "language": "python",
   "name": "python3"
  },
  "language_info": {
   "codemirror_mode": {
    "name": "ipython",
    "version": 3
   },
   "file_extension": ".py",
   "mimetype": "text/x-python",
   "name": "python",
   "nbconvert_exporter": "python",
   "pygments_lexer": "ipython3",
   "version": "3.9.12"
  },
  "vscode": {
   "interpreter": {
    "hash": "b155a34da96f173027cc83af6ba86a1d662c2b9e09ee27c56baf0fff8044d14a"
   }
  }
 },
 "nbformat": 4,
 "nbformat_minor": 2
}
